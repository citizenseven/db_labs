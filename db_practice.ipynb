{
  "nbformat": 4,
  "nbformat_minor": 0,
  "metadata": {
    "colab": {
      "provenance": [],
      "collapsed_sections": [],
      "authorship_tag": "ABX9TyPWEU8e8O6gyIVOtOuS8vCw",
      "include_colab_link": true
    },
    "kernelspec": {
      "name": "python3",
      "display_name": "Python 3"
    },
    "language_info": {
      "name": "python"
    }
  },
  "cells": [
    {
      "cell_type": "markdown",
      "metadata": {
        "id": "view-in-github",
        "colab_type": "text"
      },
      "source": [
        "<a href=\"https://colab.research.google.com/github/citizenseven/db_week7/blob/main/db_practice.ipynb\" target=\"_parent\"><img src=\"https://colab.research.google.com/assets/colab-badge.svg\" alt=\"Open In Colab\"/></a>"
      ]
    },
    {
      "cell_type": "code",
      "execution_count": null,
      "metadata": {
        "id": "bvgl1h6yVNXT"
      },
      "outputs": [],
      "source": [
        "from sqlalchemy import create_engine\n",
        "my_conn = create_engine(\"sqlite:////content/my_db.db\")"
      ]
    },
    {
      "cell_type": "code",
      "source": [
        "r_set = my_conn.execute('''select name from sqlite_master where type = 'table' ''')\n",
        "for row in r_set:\n",
        "  print(row)"
      ],
      "metadata": {
        "colab": {
          "base_uri": "https://localhost:8080/"
        },
        "id": "5VnvFkzMWWLc",
        "outputId": "fc24bd32-970a-454a-d35f-7cee3d3a4e7c"
      },
      "execution_count": null,
      "outputs": [
        {
          "output_type": "stream",
          "name": "stdout",
          "text": [
            "('category',)\n",
            "('subcategory',)\n",
            "('student',)\n"
          ]
        }
      ]
    },
    {
      "cell_type": "code",
      "source": [
        "q = \"select id, name, class, mark, sex from student where class = 'Four' \"\n",
        "my_cursor = my_conn.execute(q)\n",
        "for row in my_cursor:\n",
        "  print(row)"
      ],
      "metadata": {
        "colab": {
          "base_uri": "https://localhost:8080/"
        },
        "id": "EAqiy0yZWqTd",
        "outputId": "a7fbab2e-bde9-4f98-8fad-f975e66c4aac"
      },
      "execution_count": null,
      "outputs": [
        {
          "output_type": "stream",
          "name": "stdout",
          "text": [
            "(1, 'John Deo', 'Four', 75, 'female')\n",
            "(4, 'Krish Star', 'Four', 60, 'female')\n",
            "(5, 'John Mike', 'Four', 60, 'female')\n",
            "(6, 'Alex John', 'Four', 55, 'male')\n",
            "(10, 'Big John', 'Four', 55, 'female')\n",
            "(15, 'Tade Row', 'Four', 88, 'male')\n",
            "(16, 'Gimmy', 'Four', 88, 'male')\n",
            "(21, 'Babby John', 'Four', 69, 'female')\n",
            "(31, 'Marry Toeey', 'Four', 88, 'male')\n"
          ]
        }
      ]
    },
    {
      "cell_type": "code",
      "source": [
        "r_set = my_conn.execute('''select * from student''')\n",
        "for row in r_set:\n",
        "  print(row)"
      ],
      "metadata": {
        "colab": {
          "base_uri": "https://localhost:8080/"
        },
        "id": "yI8FOrwKfkZ1",
        "outputId": "e149a6f8-65d0-4b1a-eddf-851d5a198323"
      },
      "execution_count": null,
      "outputs": [
        {
          "output_type": "stream",
          "name": "stdout",
          "text": [
            "(1, 'John Deo', 'Four', 75, 'female')\n",
            "(2, 'Max Ruin', 'Three', 85, 'male')\n",
            "(3, 'Arnold', 'Three', 55, 'male')\n",
            "(4, 'Krish Star', 'Four', 60, 'female')\n",
            "(5, 'John Mike', 'Four', 60, 'female')\n",
            "(6, 'Alex John', 'Four', 55, 'male')\n",
            "(7, 'My John Rob', 'Five', 78, 'male')\n",
            "(8, 'Asruid', 'Five', 85, 'male')\n",
            "(9, 'Tes Qry', 'Six', 78, 'male')\n",
            "(10, 'Big John', 'Four', 55, 'female')\n",
            "(11, 'Ronald', 'Six', 89, 'female')\n",
            "(12, 'Recky', 'Six', 94, 'female')\n",
            "(13, 'Kty', 'Seven', 88, 'female')\n",
            "(14, 'Bigy', 'Seven', 88, 'female')\n",
            "(15, 'Tade Row', 'Four', 88, 'male')\n",
            "(16, 'Gimmy', 'Four', 88, 'male')\n",
            "(17, 'Tumyu', 'Six', 54, 'male')\n",
            "(18, 'Honny', 'Five', 75, 'male')\n",
            "(19, 'Tinny', 'Nine', 18, 'male')\n",
            "(20, 'Jackly', 'Nine', 65, 'female')\n",
            "(21, 'Babby John', 'Four', 69, 'female')\n",
            "(22, 'Reggid', 'Seven', 55, 'female')\n",
            "(23, 'Herod', 'Eight', 79, 'male')\n",
            "(24, 'Tiddy Now', 'Seven', 78, 'male')\n",
            "(25, 'Giff Tow', 'Seven', 88, 'male')\n",
            "(26, 'Crelea', 'Seven', 79, 'male')\n",
            "(27, 'Big Nose', 'Three', 81, 'female')\n",
            "(28, 'Rojj Base', 'Seven', 86, 'female')\n",
            "(29, 'Tess Played', 'Seven', 55, 'male')\n",
            "(30, 'Reppy Red', 'Six', 79, 'female')\n",
            "(31, 'Marry Toeey', 'Four', 88, 'male')\n",
            "(32, 'Binn Rott', 'Seven', 90, 'female')\n",
            "(33, 'Kenn Rein', 'Six', 96, 'female')\n",
            "(34, 'Gain Toe', 'Seven', 69, 'male')\n",
            "(35, 'Rows Noump', 'Six', 88, 'female')\n"
          ]
        }
      ]
    },
    {
      "cell_type": "code",
      "source": [
        "q = \"select id, name, class, mark, sex from student where id=8\"\n",
        "my_cursor = my_conn.execute(q)\n",
        "data_row = my_cursor.fetchone()\n",
        "print(data_row[0],data_row[1],data_row[3])"
      ],
      "metadata": {
        "id": "1ffyXWlpgRVb"
      },
      "execution_count": null,
      "outputs": []
    },
    {
      "cell_type": "code",
      "source": [
        "q = \"select id, name, class, mark, sex from student limit 0, 10\"\n",
        "my_cursor = my_conn.execute(q)\n",
        "data_row = my_cursor.fetchall()\n",
        "print(type(data_row))\n",
        "print(\"No of records: \", len(data_row))\n",
        "for row in data_row:\n",
        "  print(row)"
      ],
      "metadata": {
        "colab": {
          "base_uri": "https://localhost:8080/"
        },
        "id": "-_NudvQQhh6b",
        "outputId": "d0bda3a1-a91e-42cb-8b92-ceffc65e134c"
      },
      "execution_count": null,
      "outputs": [
        {
          "output_type": "stream",
          "name": "stdout",
          "text": [
            "<class 'list'>\n",
            "No of records:  10\n",
            "(1, 'John Deo', 'Four', 75, 'female')\n",
            "(2, 'Max Ruin', 'Three', 85, 'male')\n",
            "(3, 'Arnold', 'Three', 55, 'male')\n",
            "(4, 'Krish Star', 'Four', 60, 'female')\n",
            "(5, 'John Mike', 'Four', 60, 'female')\n",
            "(6, 'Alex John', 'Four', 55, 'male')\n",
            "(7, 'My John Rob', 'Five', 78, 'male')\n",
            "(8, 'Asruid', 'Five', 85, 'male')\n",
            "(9, 'Tes Qry', 'Six', 78, 'male')\n",
            "(10, 'Big John', 'Four', 55, 'female')\n"
          ]
        }
      ]
    },
    {
      "cell_type": "code",
      "source": [
        "from sqlalchemy.exc import SQLAlchemyError\n",
        "try:\n",
        "  my_conn.execute('''drop table student;''')\n",
        "  print(\"student table deleted\")\n",
        "except SQLAlchemyError as e:\n",
        "  error = str(e.__dict__['orig'])\n",
        "  print(error)"
      ],
      "metadata": {
        "colab": {
          "base_uri": "https://localhost:8080/"
        },
        "id": "FqPlW595js1y",
        "outputId": "95a2ef9b-4921-407a-a935-4c971575c88d"
      },
      "execution_count": null,
      "outputs": [
        {
          "output_type": "stream",
          "name": "stdout",
          "text": [
            "student table deleted\n"
          ]
        }
      ]
    },
    {
      "cell_type": "code",
      "source": [
        "from sqlalchemy.exc import SQLAlchemyError\n",
        "try:\n",
        "  my_conn.execute('''create table if not exists student(id integer primary key,\n",
        "  name text,\n",
        "  class text,\n",
        "  mark integer,\n",
        "  sex text);''')\n",
        "  print(\"Student table created successfully\")\n",
        "except SQLAlchemyError as e:\n",
        "  error = str(e.__dict__['orig'])\n",
        "  print(error)"
      ],
      "metadata": {
        "colab": {
          "base_uri": "https://localhost:8080/"
        },
        "id": "XK0poAghkL0u",
        "outputId": "f1c95469-7ec9-461a-ca5b-33f0463fd6eb"
      },
      "execution_count": null,
      "outputs": [
        {
          "output_type": "stream",
          "name": "stdout",
          "text": [
            "Student table created successfully\n"
          ]
        }
      ]
    },
    {
      "cell_type": "code",
      "source": [
        "r_set = my_conn.execute('''INSERT INTO `student` \n",
        "(`id`, `name`, `class`, `mark`, `sex`) VALUES \n",
        "(1, 'John Deo', 'Four', 75, 'female'),\n",
        "(2, 'Max Ruin', 'Three', 85, 'male'),\n",
        "(3, 'Arnold', 'Three', 55, 'male'),\n",
        "(4, 'Krish Star', 'Four', 60, 'female'),\n",
        "(5, 'John Mike', 'Four', 60, 'female'),\n",
        "(6, 'Alex John', 'Four', 55, 'male'),\n",
        "(7, 'My John Rob', 'Five', 78, 'male'), \n",
        "(8, 'Asruid', 'Five', 85, 'male'), \n",
        "(9, 'Tes Qry', 'Six', 78, 'male'), \n",
        "(10, 'Big John', 'Four', 55, 'female'),\n",
        "(11, 'Ronald', 'Six', 89, 'female'),\n",
        "(27, 'Big Nose', 'Three', 81, 'female'),\n",
        "(28, 'Roii Base', 'Seven', 86, 'female'),\n",
        "(29, 'Tess Played', 'Seven', 55, 'male'),\n",
        "(30, 'Reppy Red', 'Six', 79, 'female'),\n",
        "(31, 'Marry Toeey', 'Four', 88, 'male'),\n",
        "(32, 'Binn Rott', 'Seven', 90, 'female'),\n",
        "(33, 'Kenn Rein', 'Six', 96, 'female'),\n",
        "(34, 'Gain Toe', 'Seven', 69, 'male'), \n",
        "(35, 'Rows Noump', 'Six', 88, 'female');''')"
      ],
      "metadata": {
        "id": "kf_6mmIlk_xV"
      },
      "execution_count": null,
      "outputs": []
    }
  ]
}